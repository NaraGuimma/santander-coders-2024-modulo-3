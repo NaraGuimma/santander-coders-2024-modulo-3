{
 "cells": [
  {
   "cell_type": "code",
   "execution_count": 19,
   "metadata": {},
   "outputs": [],
   "source": [
    "import pandas as pd\n",
    "import glob"
   ]
  },
  {
   "cell_type": "markdown",
   "metadata": {},
   "source": [
    "# WID_data_*.csv"
   ]
  },
  {
   "cell_type": "code",
   "execution_count": null,
   "metadata": {},
   "outputs": [],
   "source": [
    "csv_files = glob.glob('WID_data_*.csv')"
   ]
  },
  {
   "cell_type": "code",
   "execution_count": null,
   "metadata": {},
   "outputs": [],
   "source": [
    "df_list = [pd.read_csv(file, sep=';') for file in csv_files]\n",
    "combined_df = pd.concat(df_list, ignore_index=True)"
   ]
  },
  {
   "cell_type": "code",
   "execution_count": null,
   "metadata": {},
   "outputs": [],
   "source": [
    "combined_df.to_csv('combined_WID_data.csv', index=False)"
   ]
  },
  {
   "cell_type": "markdown",
   "metadata": {},
   "source": [
    "# WID_metadata_*.csv"
   ]
  },
  {
   "cell_type": "code",
   "execution_count": null,
   "metadata": {},
   "outputs": [],
   "source": [
    "csv_files_mtd = glob.glob('WID_metadata_*.csv')"
   ]
  },
  {
   "cell_type": "code",
   "execution_count": null,
   "metadata": {},
   "outputs": [],
   "source": [
    "df_list_mtd = [pd.read_csv(file, sep=';') for file in csv_files_mtd]\n",
    "combined_mtd_df = pd.concat(df_list_mtd, ignore_index=True)"
   ]
  },
  {
   "cell_type": "code",
   "execution_count": null,
   "metadata": {},
   "outputs": [],
   "source": [
    "combined_mtd_df.to_csv('combined_WID_metadata.csv', index=False)"
   ]
  },
  {
   "cell_type": "markdown",
   "metadata": {},
   "source": [
    "# Combinando Dataframes"
   ]
  },
  {
   "cell_type": "code",
   "execution_count": null,
   "metadata": {},
   "outputs": [],
   "source": [
    "combined_df.columns"
   ]
  },
  {
   "cell_type": "code",
   "execution_count": null,
   "metadata": {},
   "outputs": [],
   "source": [
    "combined_mtd_df.columns"
   ]
  },
  {
   "cell_type": "markdown",
   "metadata": {},
   "source": [
    "# Filtrando dataframe final com colunas específicas"
   ]
  },
  {
   "cell_type": "code",
   "execution_count": null,
   "metadata": {},
   "outputs": [],
   "source": [
    "result_df = pd.merge(combined_df, combined_mtd_df, on=['country', 'variable', 'age', 'pop'], how='inner')"
   ]
  },
  {
   "cell_type": "code",
   "execution_count": null,
   "metadata": {},
   "outputs": [],
   "source": [
    "result_df.to_csv('combined_WID_full.csv', index=False)"
   ]
  },
  {
   "cell_type": "code",
   "execution_count": null,
   "metadata": {},
   "outputs": [],
   "source": [
    "result_df = pd.read_csv('combined_WID_full.csv')"
   ]
  },
  {
   "cell_type": "code",
   "execution_count": null,
   "metadata": {},
   "outputs": [],
   "source": [
    "filtered_result_df = result_df[['percentile', 'year', 'value', 'countryname', 'shortname', 'shorttype',\n",
    "'shortpop', 'shortage', 'unit']]\n",
    "filtered_result_df.head(3)"
   ]
  },
  {
   "cell_type": "code",
   "execution_count": null,
   "metadata": {},
   "outputs": [],
   "source": [
    "filtered_result_df.to_csv('combined_WID_filtered.csv', index=False)"
   ]
  },
  {
   "cell_type": "markdown",
   "metadata": {},
   "source": [
    "## Descrição das variáveis (Dados faltantes, tipos de dados, informações relacionadas e fontes)"
   ]
  },
  {
   "cell_type": "code",
   "execution_count": 20,
   "metadata": {},
   "outputs": [
    {
     "name": "stderr",
     "output_type": "stream",
     "text": [
      "/var/folders/tz/b2n936v51w33j36j_dvqfm6c0000gn/T/ipykernel_30611/681624273.py:1: DtypeWarning: Columns (8) have mixed types. Specify dtype option on import or set low_memory=False.\n",
      "  df = pd.read_csv('combined_WID_filtered.csv')\n"
     ]
    }
   ],
   "source": [
    "df = pd.read_csv('combined_WID_filtered.csv')"
   ]
  },
  {
   "cell_type": "code",
   "execution_count": 21,
   "metadata": {},
   "outputs": [
    {
     "data": {
      "text/plain": [
       "(49796375, 9)"
      ]
     },
     "execution_count": 21,
     "metadata": {},
     "output_type": "execute_result"
    }
   ],
   "source": [
    "df.shape"
   ]
  },
  {
   "cell_type": "code",
   "execution_count": 22,
   "metadata": {},
   "outputs": [
    {
     "data": {
      "text/html": [
       "<div>\n",
       "<style scoped>\n",
       "    .dataframe tbody tr th:only-of-type {\n",
       "        vertical-align: middle;\n",
       "    }\n",
       "\n",
       "    .dataframe tbody tr th {\n",
       "        vertical-align: top;\n",
       "    }\n",
       "\n",
       "    .dataframe thead th {\n",
       "        text-align: right;\n",
       "    }\n",
       "</style>\n",
       "<table border=\"1\" class=\"dataframe\">\n",
       "  <thead>\n",
       "    <tr style=\"text-align: right;\">\n",
       "      <th></th>\n",
       "      <th>year</th>\n",
       "      <th>value</th>\n",
       "    </tr>\n",
       "  </thead>\n",
       "  <tbody>\n",
       "    <tr>\n",
       "      <th>count</th>\n",
       "      <td>4.979638e+07</td>\n",
       "      <td>4.975868e+07</td>\n",
       "    </tr>\n",
       "    <tr>\n",
       "      <th>mean</th>\n",
       "      <td>1.998076e+03</td>\n",
       "      <td>1.755939e+13</td>\n",
       "    </tr>\n",
       "    <tr>\n",
       "      <th>std</th>\n",
       "      <td>2.137013e+01</td>\n",
       "      <td>6.211599e+17</td>\n",
       "    </tr>\n",
       "    <tr>\n",
       "      <th>min</th>\n",
       "      <td>1.807000e+03</td>\n",
       "      <td>-2.918593e+21</td>\n",
       "    </tr>\n",
       "    <tr>\n",
       "      <th>25%</th>\n",
       "      <td>1.990000e+03</td>\n",
       "      <td>3.000000e-01</td>\n",
       "    </tr>\n",
       "    <tr>\n",
       "      <th>50%</th>\n",
       "      <td>2.002000e+03</td>\n",
       "      <td>3.949000e+02</td>\n",
       "    </tr>\n",
       "    <tr>\n",
       "      <th>75%</th>\n",
       "      <td>2.012000e+03</td>\n",
       "      <td>1.309578e+05</td>\n",
       "    </tr>\n",
       "    <tr>\n",
       "      <th>max</th>\n",
       "      <td>2.023000e+03</td>\n",
       "      <td>5.786468e+20</td>\n",
       "    </tr>\n",
       "  </tbody>\n",
       "</table>\n",
       "</div>"
      ],
      "text/plain": [
       "               year         value\n",
       "count  4.979638e+07  4.975868e+07\n",
       "mean   1.998076e+03  1.755939e+13\n",
       "std    2.137013e+01  6.211599e+17\n",
       "min    1.807000e+03 -2.918593e+21\n",
       "25%    1.990000e+03  3.000000e-01\n",
       "50%    2.002000e+03  3.949000e+02\n",
       "75%    2.012000e+03  1.309578e+05\n",
       "max    2.023000e+03  5.786468e+20"
      ]
     },
     "execution_count": 22,
     "metadata": {},
     "output_type": "execute_result"
    }
   ],
   "source": [
    "df.describe()"
   ]
  },
  {
   "cell_type": "code",
   "execution_count": 23,
   "metadata": {},
   "outputs": [
    {
     "data": {
      "text/plain": [
       "percentile      0.000000\n",
       "year            0.000000\n",
       "value           0.075702\n",
       "countryname     0.000000\n",
       "shortname       0.000000\n",
       "shorttype       0.000000\n",
       "shortpop        0.000000\n",
       "shortage        0.000000\n",
       "unit           13.335800\n",
       "dtype: float64"
      ]
     },
     "execution_count": 23,
     "metadata": {},
     "output_type": "execute_result"
    }
   ],
   "source": [
    "(df.isnull().sum() / len(df))*100"
   ]
  },
  {
   "cell_type": "code",
   "execution_count": 24,
   "metadata": {},
   "outputs": [
    {
     "name": "stdout",
     "output_type": "stream",
     "text": [
      "<class 'pandas.core.frame.DataFrame'>\n",
      "RangeIndex: 49796375 entries, 0 to 49796374\n",
      "Data columns (total 9 columns):\n",
      " #   Column       Dtype  \n",
      "---  ------       -----  \n",
      " 0   percentile   object \n",
      " 1   year         int64  \n",
      " 2   value        float64\n",
      " 3   countryname  object \n",
      " 4   shortname    object \n",
      " 5   shorttype    object \n",
      " 6   shortpop     object \n",
      " 7   shortage     object \n",
      " 8   unit         object \n",
      "dtypes: float64(1), int64(1), object(7)\n",
      "memory usage: 3.3+ GB\n"
     ]
    }
   ],
   "source": [
    "df.info()"
   ]
  },
  {
   "cell_type": "markdown",
   "metadata": {},
   "source": [
    "# Renomeando as colunas"
   ]
  },
  {
   "cell_type": "code",
   "execution_count": 28,
   "metadata": {},
   "outputs": [
    {
     "data": {
      "text/html": [
       "<div>\n",
       "<style scoped>\n",
       "    .dataframe tbody tr th:only-of-type {\n",
       "        vertical-align: middle;\n",
       "    }\n",
       "\n",
       "    .dataframe tbody tr th {\n",
       "        vertical-align: top;\n",
       "    }\n",
       "\n",
       "    .dataframe thead th {\n",
       "        text-align: right;\n",
       "    }\n",
       "</style>\n",
       "<table border=\"1\" class=\"dataframe\">\n",
       "  <thead>\n",
       "    <tr style=\"text-align: right;\">\n",
       "      <th></th>\n",
       "      <th>percentil</th>\n",
       "      <th>ano</th>\n",
       "      <th>valor</th>\n",
       "      <th>pais</th>\n",
       "      <th>indicador</th>\n",
       "      <th>tipo</th>\n",
       "      <th>populacao</th>\n",
       "      <th>idade</th>\n",
       "      <th>unidade</th>\n",
       "    </tr>\n",
       "  </thead>\n",
       "  <tbody>\n",
       "    <tr>\n",
       "      <th>0</th>\n",
       "      <td>p0p100</td>\n",
       "      <td>1917</td>\n",
       "      <td>1168229.0</td>\n",
       "      <td>New Jersey</td>\n",
       "      <td>Population</td>\n",
       "      <td>Population</td>\n",
       "      <td>tax unit</td>\n",
       "      <td>Adults</td>\n",
       "      <td>population</td>\n",
       "    </tr>\n",
       "    <tr>\n",
       "      <th>1</th>\n",
       "      <td>p0p100</td>\n",
       "      <td>1918</td>\n",
       "      <td>1178440.0</td>\n",
       "      <td>New Jersey</td>\n",
       "      <td>Population</td>\n",
       "      <td>Population</td>\n",
       "      <td>tax unit</td>\n",
       "      <td>Adults</td>\n",
       "      <td>population</td>\n",
       "    </tr>\n",
       "    <tr>\n",
       "      <th>2</th>\n",
       "      <td>p0p100</td>\n",
       "      <td>1919</td>\n",
       "      <td>1204412.0</td>\n",
       "      <td>New Jersey</td>\n",
       "      <td>Population</td>\n",
       "      <td>Population</td>\n",
       "      <td>tax unit</td>\n",
       "      <td>Adults</td>\n",
       "      <td>population</td>\n",
       "    </tr>\n",
       "  </tbody>\n",
       "</table>\n",
       "</div>"
      ],
      "text/plain": [
       "  percentil   ano      valor        pais   indicador        tipo populacao  \\\n",
       "0    p0p100  1917  1168229.0  New Jersey  Population  Population  tax unit   \n",
       "1    p0p100  1918  1178440.0  New Jersey  Population  Population  tax unit   \n",
       "2    p0p100  1919  1204412.0  New Jersey  Population  Population  tax unit   \n",
       "\n",
       "    idade     unidade  \n",
       "0  Adults  population  \n",
       "1  Adults  population  \n",
       "2  Adults  population  "
      ]
     },
     "execution_count": 28,
     "metadata": {},
     "output_type": "execute_result"
    }
   ],
   "source": [
    "# Renomeando as colunas\n",
    "renamed_df = df.rename(columns={\n",
    "    'percentile': 'percentil',\n",
    "    'year': 'ano',\n",
    "    'value': 'valor',\n",
    "    'countryname': 'pais',\n",
    "    'shortname': 'indicador',\n",
    "    'shorttype': 'tipo',\n",
    "    'shortpop': 'populacao',\n",
    "    'shortage': 'idade',\n",
    "    'unit': 'unidade'\n",
    "})\n",
    "\n",
    "renamed_df.head(3)\n"
   ]
  },
  {
   "cell_type": "code",
   "execution_count": 29,
   "metadata": {},
   "outputs": [
    {
     "data": {
      "text/plain": [
       "Index(['percentil', 'ano', 'valor', 'pais', 'indicador', 'tipo', 'populacao',\n",
       "       'idade', 'unidade'],\n",
       "      dtype='object')"
      ]
     },
     "execution_count": 29,
     "metadata": {},
     "output_type": "execute_result"
    }
   ],
   "source": [
    "renamed_df.columns"
   ]
  },
  {
   "cell_type": "markdown",
   "metadata": {},
   "source": [
    "# Removendo espaços em branco nas linhas"
   ]
  },
  {
   "cell_type": "code",
   "execution_count": 37,
   "metadata": {},
   "outputs": [
    {
     "name": "stderr",
     "output_type": "stream",
     "text": [
      "/var/folders/tz/b2n936v51w33j36j_dvqfm6c0000gn/T/ipykernel_30611/2507704737.py:1: FutureWarning: DataFrame.applymap has been deprecated. Use DataFrame.map instead.\n",
      "  renamed_df = renamed_df.applymap(lambda x: x.strip() if isinstance(x, str) else x)\n"
     ]
    }
   ],
   "source": [
    "renamed_df = renamed_df.applymap(lambda x: x.strip() if isinstance(x, str) else x)\n"
   ]
  },
  {
   "cell_type": "markdown",
   "metadata": {},
   "source": [
    "## Analisando as colunas "
   ]
  },
  {
   "cell_type": "markdown",
   "metadata": {},
   "source": [
    "Analisando a coluna percentil"
   ]
  },
  {
   "cell_type": "code",
   "execution_count": 33,
   "metadata": {},
   "outputs": [
    {
     "data": {
      "text/plain": [
       "456"
      ]
     },
     "execution_count": 33,
     "metadata": {},
     "output_type": "execute_result"
    }
   ],
   "source": [
    "len(renamed_df['percentil'].unique())"
   ]
  },
  {
   "cell_type": "code",
   "execution_count": 31,
   "metadata": {},
   "outputs": [
    {
     "data": {
      "text/plain": [
       "array(['p0p100', 'p0p90', 'p0p99', 'p90p100', 'p90p95', 'p95p100',\n",
       "       'p95p99', 'p99.5p100', 'p99.5p99.9', 'p99.99p100', 'p99.9p100',\n",
       "       'p99.9p99.99', 'p99p100', 'p99p99.5', 'p0p1', 'p0p10', 'p0p11',\n",
       "       'p0p12', 'p0p13', 'p0p14', 'p0p15', 'p0p16', 'p0p17', 'p0p18',\n",
       "       'p0p19', 'p0p2', 'p0p20', 'p0p21', 'p0p22', 'p0p23', 'p0p24',\n",
       "       'p0p25', 'p0p26', 'p0p27', 'p0p28', 'p0p29', 'p0p3', 'p0p30',\n",
       "       'p0p31', 'p0p32', 'p0p33', 'p0p34', 'p0p35', 'p0p36', 'p0p37',\n",
       "       'p0p38', 'p0p39', 'p0p4', 'p0p40', 'p0p41', 'p0p42', 'p0p43',\n",
       "       'p0p44', 'p0p45', 'p0p46', 'p0p47', 'p0p48', 'p0p49', 'p0p5',\n",
       "       'p0p50', 'p0p51', 'p0p52', 'p0p53', 'p0p54', 'p0p55', 'p0p56',\n",
       "       'p0p57', 'p0p58', 'p0p59', 'p0p6', 'p0p60', 'p0p61', 'p0p62',\n",
       "       'p0p63', 'p0p64', 'p0p65', 'p0p66', 'p0p67', 'p0p68', 'p0p69',\n",
       "       'p0p7', 'p0p70', 'p0p71', 'p0p72', 'p0p73', 'p0p74', 'p0p75',\n",
       "       'p0p76', 'p0p77', 'p0p78', 'p0p79', 'p0p8', 'p0p80', 'p0p81',\n",
       "       'p0p82', 'p0p83', 'p0p84', 'p0p85', 'p0p86', 'p0p87', 'p0p88',\n",
       "       'p0p89', 'p0p9', 'p0p91', 'p0p92', 'p0p93', 'p0p94', 'p0p95',\n",
       "       'p0p96', 'p0p97', 'p0p98', 'p0p99.1', 'p0p99.2', 'p0p99.3',\n",
       "       'p0p99.4', 'p0p99.5', 'p0p99.6', 'p0p99.7', 'p0p99.8', 'p0p99.9',\n",
       "       'p0p99.91', 'p0p99.92', 'p0p99.93', 'p0p99.94', 'p0p99.95',\n",
       "       'p0p99.96', 'p0p99.97', 'p0p99.98', 'p0p99.99', 'p0p99.991',\n",
       "       'p0p99.992', 'p0p99.993', 'p0p99.994', 'p0p99.995', 'p0p99.996',\n",
       "       'p0p99.997', 'p0p99.998', 'p0p99.999', 'p10p100', 'p10p11',\n",
       "       'p10p20', 'p11p100', 'p11p12', 'p12p100', 'p12p13', 'p13p100',\n",
       "       'p13p14', 'p14p100', 'p14p15', 'p15p100', 'p15p16', 'p16p100',\n",
       "       'p16p17', 'p17p100', 'p17p18', 'p18p100', 'p18p19', 'p19p100',\n",
       "       'p19p20', 'p1p100', 'p1p2', 'p20p100', 'p20p21', 'p20p30',\n",
       "       'p21p100', 'p21p22', 'p22p100', 'p22p23', 'p23p100', 'p23p24',\n",
       "       'p24p100', 'p24p25', 'p25p100', 'p25p26', 'p26p100', 'p26p27',\n",
       "       'p27p100', 'p27p28', 'p28p100', 'p28p29', 'p29p100', 'p29p30',\n",
       "       'p2p100', 'p2p3', 'p30p100', 'p30p31', 'p30p40', 'p31p100',\n",
       "       'p31p32', 'p32p100', 'p32p33', 'p33p100', 'p33p34', 'p34p100',\n",
       "       'p34p35', 'p35p100', 'p35p36', 'p36p100', 'p36p37', 'p37p100',\n",
       "       'p37p38', 'p38p100', 'p38p39', 'p39p100', 'p39p40', 'p3p100',\n",
       "       'p3p4', 'p40p100', 'p40p41', 'p40p50', 'p41p100', 'p41p42',\n",
       "       'p42p100', 'p42p43', 'p43p100', 'p43p44', 'p44p100', 'p44p45',\n",
       "       'p45p100', 'p45p46', 'p46p100', 'p46p47', 'p47p100', 'p47p48',\n",
       "       'p48p100', 'p48p49', 'p49p100', 'p49p50', 'p4p100', 'p4p5',\n",
       "       'p50p100', 'p50p51', 'p50p60', 'p50p90', 'p51p100', 'p51p52',\n",
       "       'p52p100', 'p52p53', 'p53p100', 'p53p54', 'p54p100', 'p54p55',\n",
       "       'p55p100', 'p55p56', 'p56p100', 'p56p57', 'p57p100', 'p57p58',\n",
       "       'p58p100', 'p58p59', 'p59p100', 'p59p60', 'p5p100', 'p5p6',\n",
       "       'p60p100', 'p60p61', 'p60p70', 'p61p100', 'p61p62', 'p62p100',\n",
       "       'p62p63', 'p63p100', 'p63p64', 'p64p100', 'p64p65', 'p65p100',\n",
       "       'p65p66', 'p66p100', 'p66p67', 'p67p100', 'p67p68', 'p68p100',\n",
       "       'p68p69', 'p69p100', 'p69p70', 'p6p100', 'p6p7', 'p70p100',\n",
       "       'p70p71', 'p70p80', 'p71p100', 'p71p72', 'p72p100', 'p72p73',\n",
       "       'p73p100', 'p73p74', 'p74p100', 'p74p75', 'p75p100', 'p75p76',\n",
       "       'p76p100', 'p76p77', 'p77p100', 'p77p78', 'p78p100', 'p78p79',\n",
       "       'p79p100', 'p79p80', 'p7p100', 'p7p8', 'p80p100', 'p80p81',\n",
       "       'p80p90', 'p81p100', 'p81p82', 'p82p100', 'p82p83', 'p83p100',\n",
       "       'p83p84', 'p84p100', 'p84p85', 'p85p100', 'p85p86', 'p86p100',\n",
       "       'p86p87', 'p87p100', 'p87p88', 'p88p100', 'p88p89', 'p89p100',\n",
       "       'p89p90', 'p8p100', 'p8p9', 'p90p91', 'p91p100', 'p91p92',\n",
       "       'p92p100', 'p92p93', 'p93p100', 'p93p94', 'p94p100', 'p94p95',\n",
       "       'p95p96', 'p96p100', 'p96p97', 'p97p100', 'p97p98', 'p98p100',\n",
       "       'p98p99', 'p99.1p100', 'p99.1p99.2', 'p99.2p100', 'p99.2p99.3',\n",
       "       'p99.3p100', 'p99.3p99.4', 'p99.4p100', 'p99.4p99.5', 'p99.5p99.6',\n",
       "       'p99.6p100', 'p99.6p99.7', 'p99.7p100', 'p99.7p99.8', 'p99.8p100',\n",
       "       'p99.8p99.9', 'p99.91p100', 'p99.91p99.92', 'p99.92p100',\n",
       "       'p99.92p99.93', 'p99.93p100', 'p99.93p99.94', 'p99.94p100',\n",
       "       'p99.94p99.95', 'p99.95p100', 'p99.95p99.96', 'p99.96p100',\n",
       "       'p99.96p99.97', 'p99.97p100', 'p99.97p99.98', 'p99.98p100',\n",
       "       'p99.98p99.99', 'p99.991p100', 'p99.991p99.992', 'p99.992p100',\n",
       "       'p99.992p99.993', 'p99.993p100', 'p99.993p99.994', 'p99.994p100',\n",
       "       'p99.994p99.995', 'p99.995p100', 'p99.995p99.996', 'p99.996p100',\n",
       "       'p99.996p99.997', 'p99.997p100', 'p99.997p99.998', 'p99.998p100',\n",
       "       'p99.998p99.999', 'p99.999p100', 'p99.99p99.991', 'p99.9p99.91',\n",
       "       'p99p99.1', 'p9p10', 'p9p100', 'p98p99.1', 'p98p99.2',\n",
       "       'p99.1p99.3', 'p99.8p99.91', 'p99.8p99.92', 'p99.8p99.93',\n",
       "       'p99.91p99.93', 'p99.91p99.94', 'p99.91p99.95', 'p99.92p99.94',\n",
       "       'p99.92p99.95', 'p99.93p99.95', 'p99.94p99.96', 'p99.98p99.991',\n",
       "       'p99.98p99.992', 'p99.98p99.993', 'p99.991p99.993',\n",
       "       'p99.991p99.995', 'p99.992p99.994', 'p99.992p99.995',\n",
       "       'p99.992p99.996', 'p99.993p99.995', 'p99.994p99.996',\n",
       "       'p99.995p99.997', 'p99.99p99.992', 'p99.99p99.993',\n",
       "       'p99.99p99.994', 'p99.9p99.92', 'p99.9p99.93', 'p99.9p99.94',\n",
       "       'p99p99.2', 'p0p0', 'p99.2p99.4', 'p99.3p99.5', 'p99.5p99.7',\n",
       "       'p99.95p99.97', 'p90p99', 'p99.8p99.94', 'p99.92p99.96',\n",
       "       'p99.98p99.994', 'p99.9p99.95', 'p99.4p99.6', 'p99.96p99.98',\n",
       "       'p99.991p99.994', 'p99.993p99.996', 'p99.997p99.999', 'p99.75p100',\n",
       "       'p99.95p99.99', 'p99.1p99.4', 'p99.2p99.5', 'p99.3p99.6',\n",
       "       'p99.93p99.96', 'p99p99.3', 'p99p99.4', 'p98p99.3', 'p98p99.4',\n",
       "       'p99.94p99.97', 'p99.994p99.997', 'p99.996p99.998', 'p99.6p99.8',\n",
       "       'p99.99p99.995', 'p99.99p99.999', 'p99p99.9', 'p60p80'],\n",
       "      dtype=object)"
      ]
     },
     "execution_count": 31,
     "metadata": {},
     "output_type": "execute_result"
    }
   ],
   "source": [
    "renamed_df['percentil'].unique()"
   ]
  },
  {
   "cell_type": "markdown",
   "metadata": {},
   "source": [
    "Analisando a coluna ano"
   ]
  },
  {
   "cell_type": "code",
   "execution_count": 36,
   "metadata": {},
   "outputs": [
    {
     "data": {
      "text/plain": [
       "1807"
      ]
     },
     "execution_count": 36,
     "metadata": {},
     "output_type": "execute_result"
    }
   ],
   "source": [
    "renamed_df['ano'].min()"
   ]
  },
  {
   "cell_type": "code",
   "execution_count": 35,
   "metadata": {},
   "outputs": [
    {
     "data": {
      "text/plain": [
       "2023"
      ]
     },
     "execution_count": 35,
     "metadata": {},
     "output_type": "execute_result"
    }
   ],
   "source": [
    "renamed_df['ano'].max()"
   ]
  },
  {
   "cell_type": "markdown",
   "metadata": {},
   "source": [
    "Analisando a coluna pais"
   ]
  },
  {
   "cell_type": "code",
   "execution_count": 41,
   "metadata": {},
   "outputs": [
    {
     "data": {
      "text/plain": [
       "380"
      ]
     },
     "execution_count": 41,
     "metadata": {},
     "output_type": "execute_result"
    }
   ],
   "source": [
    "len(renamed_df['pais'].unique())"
   ]
  },
  {
   "cell_type": "code",
   "execution_count": 43,
   "metadata": {},
   "outputs": [
    {
     "data": {
      "text/plain": [
       "array(['New Jersey', 'Arkansas', 'the British Virgin Islands', 'Tonga',\n",
       "       'Latin America', 'Other MENA', 'Mozambique', 'Namibia',\n",
       "       'Liechtenstein', 'Myanmar', 'South Asia (at market exchange rate)',\n",
       "       'the Central African Republic', 'Barbados',\n",
       "       'the Netherlands Antilles', 'Bhutan', 'Angola', 'the Congo',\n",
       "       'Other Russia & Central Asia (at market exchange rate)', 'Mali',\n",
       "       'Other Latin America', 'the Middle East',\n",
       "       'Sub-Saharan Africa (at market exchange rate)', 'Tunisia',\n",
       "       'Wisconsin', 'Baden',\n",
       "       'South & South-East Asia (at market exchange rate)', 'Louisiana',\n",
       "       'Maine', 'Utah', 'Timor-Leste', 'Malaysia', 'Niue', 'Mongolia',\n",
       "       'Bosnia and Herzegovina', 'Azerbaijan',\n",
       "       'Central America (at market exchange rate)', 'Armenia',\n",
       "       'Costa Rica', 'Czechoslovakia', 'Botswana', 'Albania',\n",
       "       'the DR Congo', 'Sri Lanka', 'Macao', 'New Caledonia', 'Mexico',\n",
       "       'MENA', 'Turkmenistan', 'Tanzania', 'Venezuela',\n",
       "       'Other North America & Oceania (at market exchange rate)',\n",
       "       'Colorado', 'New Hampshire', 'Mississippi', 'Maryland', 'Ohio',\n",
       "       'Wurttemberg', 'Wyoming', 'Uzbekistan', 'the Holy See',\n",
       "       'the Caribbean (at market exchange rate)', 'Nepal',\n",
       "       'North Macedonia', 'Nigeria', 'Other Western Europe',\n",
       "       'the Bahamas', 'Curacao', 'Bangladesh', 'Canada', 'Belgium',\n",
       "       'Cabo Verde', 'Brazil', 'Anguilla', 'Other East Asia', 'Libya',\n",
       "       'Thailand', 'Samoa', 'MENA (at market exchange rate)',\n",
       "       'Other South & South-East Asia (at market exchange rate)',\n",
       "       'Massachusetts', 'New Mexico', 'Montana', 'Oklahoma', 'Tajikistan',\n",
       "       'South Africa (at market exchange rate)', 'Vanuatu',\n",
       "       'Wallis and Futuna', 'Uruguay', 'the Channel Islands',\n",
       "       'South Africa', 'the Marshall Islands', 'Bulgaria', 'Burkina Faso',\n",
       "       'Bonaire, Sint Eustatius and Saba', 'Cuba', 'Niger',\n",
       "       'Other Russia & Central Asia', 'Nauru', 'Zimbabwe',\n",
       "       'Saint Vincent and the Grenadines', 'Tokelau',\n",
       "       'Russia & Central Asia (at market exchange rate)', 'New York',\n",
       "       'Central Asia (at market exchange rate)', 'Hawaii',\n",
       "       'South Carolina', 'Hesse', 'West Asia', 'Palestine',\n",
       "       'Saint Helena', 'the Cayman Islands', 'Iraq', 'Hungary',\n",
       "       'Saint Kitts and Nevis', 'Estonia', 'Finland', 'Eritrea', 'Gambia',\n",
       "       'Latin America (at market exchange rate)', 'Greenland', 'Spain',\n",
       "       'Haiti', 'Slovenia', 'Puerto Rico', 'West Africa', 'Peru', 'Qatar',\n",
       "       'Saxony', 'Illinois', 'Kansas', 'Indiana',\n",
       "       'West Africa (at market exchange rate)', 'Papua New Guinea',\n",
       "       'Americas (at market exchange rate)', 'Americas', 'Slovakia',\n",
       "       'Romania', 'Kazakhstan', 'Ireland', 'Comoros', 'Iran', 'Guyana',\n",
       "       'Guinea', 'Fiji', 'the Falkland Islands', 'Egypt', 'Iceland',\n",
       "       'Indonesia', 'South Asia', 'Africa', 'the French Polynesia',\n",
       "       'Other East Asia (at market exchange rate)', 'Prussia',\n",
       "       'West Asia (at market exchange rate)', 'Senegal',\n",
       "       'Oceania (excl. Australia and New Zealand)',\n",
       "       'Syrian Arab Republic', 'Oceania', 'Cambodia',\n",
       "       'Africa (at market exchange rate)', 'the Faroe Islands',\n",
       "       'Ethiopia', 'Ecuador', 'Jamaica', 'Kiribati', 'Croatia',\n",
       "       'Australia and New Zealand', 'Sint Maarten (Dutch part)',\n",
       "       'North America', 'Somalia', 'Portugal', 'Bremen',\n",
       "       'Other Western Europe (at market exchange rate)', 'South Dakota',\n",
       "       'Georgia', 'East Africa (at market exchange rate)',\n",
       "       'South America', 'San Marino', 'Europe', 'Swaziland', 'Panama',\n",
       "       'Italy', 'Jordan', 'Ghana', 'the German Democratic Republic',\n",
       "       'Germany', 'Gibraltar', 'Micronesia',\n",
       "       'Other Sub-Saharan Africa (at market exchange rate)',\n",
       "       'the Middle East (at market exchange rate)', 'Asia',\n",
       "       'Sierra Leone', 'Palau', 'South-East Asia', 'Idaho',\n",
       "       'District of Columbia', 'Saudi Arabia', 'El Salvador',\n",
       "       'Saint Pierre and Miquelon', 'Central America', 'Kyrgyzstan',\n",
       "       'North Korea', 'Hong Kong', 'Grenada', 'Greece', 'India',\n",
       "       'the Caribbean', 'Serbia', 'Poland',\n",
       "       'Middle Africa (at market exchange rate)', 'Paraguay',\n",
       "       'Solomon Islands', 'Central Asia', 'the USSR', 'Israel', 'Kosovo',\n",
       "       'Guernsey', 'Denmark',\n",
       "       'Asia (excluding Middle East) (at market exchange rate)',\n",
       "       'Equatorial Guinea', 'Djibouti', 'Korea', 'the Isle of Man',\n",
       "       'Kenya', 'South America (at market exchange rate)', 'urban China',\n",
       "       'Sao Tome and Principe', 'East Africa', 'Seychelles',\n",
       "       'Australia and New Zealand (at market exchange rate)', 'Kentucky',\n",
       "       'Delaware', 'North Africa', 'Pakistan', 'Western Europe',\n",
       "       'Singapore', 'Jersey', 'Guam', 'the United Kingdom',\n",
       "       'South-East Asia (at market exchange rate)', 'Guatemala',\n",
       "       'the Dominican Republic', 'Kuwait', 'European Union',\n",
       "       'Middle Africa', 'the Russian Federation', 'Pennsylvania',\n",
       "       'Oceania (at market exchange rate)', 'Rhode Island', 'Florida',\n",
       "       'Iowa', 'South Sudan', 'the Philippines', 'Rwanda', 'East Asia',\n",
       "       'Sudan', 'Honduras', 'Dominica', 'France', 'Gabon', 'Algeria',\n",
       "       'Western Sahara', 'Guinea-Bissau',\n",
       "       'North Africa (at market exchange rate)', 'Japan', 'Sweden',\n",
       "       'Eastern Europe', 'Suriname', 'Hamburg', 'North Carolina',\n",
       "       'Missouri', 'North America & Oceania (at market exchange rate)',\n",
       "       'Alabama', 'Washington', 'West Virginia',\n",
       "       'Other MENA (at market exchange rate)', 'Viet Nam', 'Zanzibar',\n",
       "       'Zambia', 'Russia & Central Asia', 'Moldova', 'Montserrat',\n",
       "       'Antigua and Barbuda', 'Colombia', 'China', 'Benin',\n",
       "       'Asia (at market exchange rate)', 'Cyprus', 'Afghanistan', 'Oman',\n",
       "       'Latvia', 'Nicaragua', 'Mauritania', 'Lao PDR', 'Montenegro',\n",
       "       'South & South-East Asia', 'Togo',\n",
       "       'Oceania (excl. Australia and New Zealand) (at market exchange rate)',\n",
       "       'Arizona', 'Minnesota', 'Tennessee', 'Ukraine', 'Turkey',\n",
       "       'Sub-Saharan Africa', 'Yugoslavia', 'Saint Lucia', 'Madagascar',\n",
       "       'Lithuania', 'the Northern Mariana Islands', 'Andorra', 'Chile',\n",
       "       'Bahrain', 'American Samoa', 'Argentina', 'Burundi', 'Cameroon',\n",
       "       'the United Arab Emirates', 'the Czech Republic',\n",
       "       'Western Europe (at market exchange rate)', 'Luxembourg',\n",
       "       'Saint Martin (French part)', 'Lebanon',\n",
       "       'the World (at market exchange rate)', 'rural China', 'Chad',\n",
       "       'Eastern Europe (at market exchange rate)', 'Bavaria', 'Texas',\n",
       "       'Oregon', 'Nevada', 'Michigan', 'Nebraska', 'Vermont', 'Taiwan',\n",
       "       'the USA', 'Other Sub-Saharan Africa', 'Mauritius',\n",
       "       \"Cote d'Ivoire\", 'Bermuda', 'Belize', 'Aruba', 'Saint Barthelemy',\n",
       "       'Switzerland', 'Monaco', 'Norway', 'Malta',\n",
       "       'North America & Oceania', 'the US Virgin Islands', 'Tuvalu',\n",
       "       'European Union (at market exchange rate)',\n",
       "       'East Asia (at market exchange rate)', 'Connecticut', 'Alaska',\n",
       "       'North Dakota', 'Other Latin America (at market exchange rate)',\n",
       "       'California', 'Trinidad and Tobago', 'the World', 'Uganda',\n",
       "       'the Turks and Caicos Islands', 'Maldives', 'Liberia',\n",
       "       'Other South & South-East Asia', 'New Zealand', 'Morocco',\n",
       "       'Brunei Darussalam', 'Australia', 'Belarus', 'the Cook Islands',\n",
       "       'Austria', 'Bolivia', 'Other North America & Oceania', 'Lesotho',\n",
       "       'the Netherlands', 'Malawi', 'Asia (excluding Middle East)',\n",
       "       'Yemen', 'Europe (at market exchange rate)', 'Virginia',\n",
       "       'North America (at market exchange rate)'], dtype=object)"
      ]
     },
     "execution_count": 43,
     "metadata": {},
     "output_type": "execute_result"
    }
   ],
   "source": [
    "renamed_df['pais'].unique()"
   ]
  },
  {
   "cell_type": "markdown",
   "metadata": {},
   "source": [
    "Analisando a coluna indicador"
   ]
  },
  {
   "cell_type": "code",
   "execution_count": 42,
   "metadata": {},
   "outputs": [
    {
     "data": {
      "text/plain": [
       "382"
      ]
     },
     "execution_count": 42,
     "metadata": {},
     "output_type": "execute_result"
    }
   ],
   "source": [
    "len(renamed_df['indicador'].unique())"
   ]
  },
  {
   "cell_type": "code",
   "execution_count": 44,
   "metadata": {},
   "outputs": [
    {
     "data": {
      "text/plain": [
       "array(['Population', 'Fiscal income', 'Pre-tax national income',\n",
       "       'Number of tax returns', 'Household carbon footprint',\n",
       "       'Household indirect footprint of other gases',\n",
       "       'National CO2 footprint', 'National carbon footprint',\n",
       "       'National footprint of other gases',\n",
       "       'National net imports of CO2 emissions',\n",
       "       'National net imports of carbon emissions',\n",
       "       'National net imports of other gases',\n",
       "       'National territorial CO2 emissions',\n",
       "       'National territorial emissions',\n",
       "       'National territorial emissions of other gases',\n",
       "       'Territorial emissions of the national productive sector and other emissions not attributed to households (Other gases)',\n",
       "       'Government CO2 footprint', 'Government carbon footprint',\n",
       "       'Government footprint of other gases', 'Net foreign labor income',\n",
       "       'Consumption of fixed capital of non-financial coporations',\n",
       "       'Investment CO2 footprint',\n",
       "       'Personal carbon footprint - investments part',\n",
       "       'Investment footprint of other gases',\n",
       "       'Compensation of employees received from the rest of the world',\n",
       "       'Consumption of fixed capital', 'Final consumption expenditures',\n",
       "       'NGO CO2 footprint', 'NGO carbon footprint',\n",
       "       'NGO footprint of other gases', 'Defense', 'Economic affairs',\n",
       "       'Education: Primary', 'Education: Secondary',\n",
       "       'Education: Tertiary', 'Education', 'Environmental protection',\n",
       "       'Net foreign direct investment income',\n",
       "       'Foreign direct investment income paid to the rest of the world',\n",
       "       'Foreign direct investment income received  from the rest of the world',\n",
       "       'Foreign direct investment assets',\n",
       "       'Foreign direct investment liabilities', 'Corporate income tax',\n",
       "       'Foreign income paid to the rest of the world', 'Capital Account',\n",
       "       'Consumption of fixed capital of financial coporations',\n",
       "       'Capital transfers paid to  the rest of the world',\n",
       "       'Capital transfers received from the rest of the world',\n",
       "       'Net foreign labor and capital income',\n",
       "       'Labor and capital income from the rest of the world',\n",
       "       'Subsidies on production received from the rest of the world',\n",
       "       'Taxes on production paid to the rest of the world',\n",
       "       'Gross domestic product', 'Gross national income',\n",
       "       'General public services (excluding interest payments)',\n",
       "       'Gross operating surplus', 'Net public wealth',\n",
       "       'Primary surplus of the governement',\n",
       "       'Gross operating surplus and mixed income', 'Health',\n",
       "       'Housing and community amenities',\n",
       "       'Interest paid by the governement',\n",
       "       'Gross operating surplus and miscellaneous', 'Indirect taxes',\n",
       "       'Current Account = pinnx + comnx + tbnnx + opinx + scinx',\n",
       "       'Net domestic product', 'Net foreign income', 'National income',\n",
       "       'Net operating surplus of non-financial corporations',\n",
       "       'Net operating surplus of NPISH', 'Non-tax revenue',\n",
       "       'Net operating surplus and miscellaneous',\n",
       "       'Market-value national wealth', 'Gross foreign assets',\n",
       "       'Gross foreign liabilities',\n",
       "       'Net operating surplus and mixed income of households and NPISH',\n",
       "       'Net operating surplus and mixed income of households',\n",
       "       'Net foreign assets',\n",
       "       'Consumption of fixed capital of corporations',\n",
       "       'Consumption of fixed capital of households and NPISH',\n",
       "       'Consumption of fixed capital of households', 'Other taxes',\n",
       "       'Consumption of fixed capital of NPISH',\n",
       "       'Other taxes on production', 'Net foreign capital income',\n",
       "       'Property income paid from the rest of the world',\n",
       "       'Property income received from the rest of the world',\n",
       "       'Personal income tax', 'Compensation of employees of NPISH',\n",
       "       'Public order and safety',\n",
       "       'Gross primary income of financial corporations',\n",
       "       'Compensation of employees paid from the rest of the world',\n",
       "       'Net primary income of households and NPISH',\n",
       "       'Gross primary income of the general government',\n",
       "       'Net primary income of households',\n",
       "       'Net property income of non-financial corporations',\n",
       "       'Debt Income paid from the rest of the world',\n",
       "       'Debt Income received from the rest of the world', 'Debt assets',\n",
       "       'Debt liabilities', 'Compensation of employees',\n",
       "       'Equity Income paid from the rest of the world',\n",
       "       'Gross primary income of households and NPISH',\n",
       "       'Gross primary income of NPISH',\n",
       "       'Net primary income of corporations',\n",
       "       'Equity income received from the rest of the world',\n",
       "       'Private expenditures of households',\n",
       "       'Net property income of corporations', 'Equiy assets',\n",
       "       'Private expenditures of households and NPISH',\n",
       "       'Equity liabilities', 'Net portfolio income',\n",
       "       'Portfolio and other income paid to the rest of the world',\n",
       "       'Net reinvested earnings on foreign portfolio investment',\n",
       "       'Reinvested earnings on foreign portfolio investment, paid to the rest of the world',\n",
       "       'Reinvested earnings on foreign portfolio investment, received from the rest of the world',\n",
       "       'Portfolio and other income received from the rest of the world',\n",
       "       'Net secondary income of the general government',\n",
       "       'Portfolio assets', 'Portfolio liabilities',\n",
       "       'Recreation and culture',\n",
       "       'Total Public Revenue (excluding non-tax revenue)',\n",
       "       'Social protection: social assistance in cash',\n",
       "       'Gross savings of NPISH',\n",
       "       'Social protection: social assistance in kind',\n",
       "       'Net savings of households', 'Gross savings of households',\n",
       "       'Net remittances', 'Remittances paid to the rest of the world',\n",
       "       'Remittances received from the rest of the world',\n",
       "       'Social contributions', 'Gross national savings',\n",
       "       'Net savings of the general government',\n",
       "       'Gross secondary income of households and NPISH',\n",
       "       'Gross secondary income of households',\n",
       "       'Gross secondary income/Gross saving of non-financial corporations',\n",
       "       'Social protection',\n",
       "       'Net secondary income/Net saving of financial corporations',\n",
       "       'Social benefits from private employer social insurance',\n",
       "       'Net secondary income of NPISH',\n",
       "       'Net secondary income/Net saving of corporations',\n",
       "       'Social protection: social insurance',\n",
       "       'Gross secondary income/Gross saving of financial corporations',\n",
       "       'Gross secondary income of the general government',\n",
       "       'Social contributions to private employer social insurance',\n",
       "       'Direct taxes',\n",
       "       'Foreign subsidies less taxes on production and imports',\n",
       "       'Net secondary income of households',\n",
       "       'Net secondary income/Net saving of non-financial corporations',\n",
       "       'Social benefits other than social transfers in kind',\n",
       "       'Imports of goods and services', 'Trade balace (exports-imports)',\n",
       "       'Exports of goods and services',\n",
       "       'Direct taxes on income and wealth', 'National income price index',\n",
       "       'Personal taxes on income and wealth', 'Taxes on products',\n",
       "       'Total Public Spending (excluding interest payment)',\n",
       "       'Foreign income received from the rest of the world',\n",
       "       'Labor and capital income paid to the rest of the world',\n",
       "       'Private expenditures of NPISH', 'Other government spending',\n",
       "       'Net property income of households',\n",
       "       'Net property income of NPISH',\n",
       "       'Gross primary income of corporations',\n",
       "       'Reserves income received from the rest of the world',\n",
       "       'Reserves assets', 'Property and wealth taxes',\n",
       "       'Recreation, culture and religion', 'Total Public Revenue',\n",
       "       'Net national savings',\n",
       "       'Gross secondary income/Gross saving of corporations',\n",
       "       'Corporate tax', 'General public services',\n",
       "       'Net operating surplus of corporations',\n",
       "       'Net operating surplus of financial corporations',\n",
       "       'Offshore wealth', 'Gross primary income of households',\n",
       "       'Gross primary income of non-financial corporations',\n",
       "       'Net primary income of financial corporations',\n",
       "       'Net primary income of non-financial corporations',\n",
       "       'Net primary income of NPISH',\n",
       "       'Net portfolio income, officially recorded',\n",
       "       'Net property income of financial corporations',\n",
       "       'Portfolio and other income paid to the rest of the world, officially recorded',\n",
       "       'Foreign income received from tax havens',\n",
       "       'Portfolio and other income received from the rest of the world, officially recorded',\n",
       "       'Net savings of households and NPISH', 'Net savings of NPISH',\n",
       "       'Consumption of fixed capital of the general goverment',\n",
       "       'Net secondary income of households and NPISH',\n",
       "       'Taxes on products and production',\n",
       "       'Gross savings of the general government', 'Net private wealth',\n",
       "       'Compensation of employees of households',\n",
       "       'Taxes on production and imports', 'Net personal wealth',\n",
       "       'Net primary income of the general government',\n",
       "       'Gross secondary income of NPISH',\n",
       "       'Gross savings of households and NPISH',\n",
       "       'Subsidies on production and imports', 'Net other primary income',\n",
       "       'Other primary income paid to the rest of the world',\n",
       "       'Other primary income received from the rest of the world',\n",
       "       'Net property income of households and NPISH',\n",
       "       'Net property income of the government',\n",
       "       'Net Public Wealth to Net National Income Ratio',\n",
       "       'Net Private Wealth to Net National Income Ratio',\n",
       "       'PPP conversion factor, LCU per EUR',\n",
       "       'Market exchange rate, LCU per EUR',\n",
       "       'PPP conversion factor, LCU per USD',\n",
       "       'Market exchange rate, LCU per USD',\n",
       "       'PPP conversion factor, LCU per CNY',\n",
       "       'Market exchange rate, LCU per CNY',\n",
       "       'Net national wealth to Net National Income Ratio',\n",
       "       'Net Personal Wealth to Net National Income Ratio',\n",
       "       'Pre-tax labor income [pre-tax labor income ranking]',\n",
       "       'Household indirect CO2 footprint', 'Household direct emissions',\n",
       "       'Household indirect carbon footprint',\n",
       "       'Territorial emissions of the national productive sector and other emissions not attributed to households (CO2)',\n",
       "       'Territorial emissions of the national productive sector and other emissions not attributed to households',\n",
       "       'Pure capital income', 'Post-tax national income',\n",
       "       'Consumption of fixed capital attributable to mixed income',\n",
       "       'Consumption of fixed capital attributable to operating surplus',\n",
       "       'Net operating surplus of households and NPISH',\n",
       "       'Capital share of national income', 'Gross mixed income',\n",
       "       'Gross operating surplus of households',\n",
       "       'Net mixed income of households and NPISH',\n",
       "       'personal carbon footprint - consumption part',\n",
       "       'Personal CO2 footprint', 'Personal carbon footprint',\n",
       "       'Net mixed income of households', 'Inequality transparency index',\n",
       "       'Labor share of national income', 'Other subsidies on production',\n",
       "       'Subsidies on products', 'Collective consumption expenditure',\n",
       "       'Individual consumption expenditures', 'Environment protection',\n",
       "       'Number of tax units - adults', 'Total tax population',\n",
       "       'Post-tax disposable income',\n",
       "       'Other subsidies on production received from the rest of the world',\n",
       "       'Other foreign subsidies less taxes on production',\n",
       "       'Foreign subsidies less taxes on products',\n",
       "       'Other taxes on production paid to the rest of the world',\n",
       "       'Taxes on products paid to the rest of the world',\n",
       "       'Subsidies on products received from the rest of the world',\n",
       "       'Corporate bonds & loans',\n",
       "       'Corporate business and other non-financial assets',\n",
       "       'Corporate equities', 'Corporate financial assets excluding cash',\n",
       "       'Corporate currency, deposits, bonds & loans',\n",
       "       'Corporate housing assets',\n",
       "       'Corporate pension funds & life insurance',\n",
       "       'Corporate debt (non-equity liability)',\n",
       "       'Corporate equity, fund shares & offshore wealth',\n",
       "       'Government business and other non-financial assets',\n",
       "       'Government equities',\n",
       "       'Government currency, deposits, bonds & loans',\n",
       "       'Government housing assets',\n",
       "       'Government land underlying dwellings',\n",
       "       'Government pension funds & life insurance',\n",
       "       'Government dwellings', 'Government natural capital',\n",
       "       'Government financial assets excluding cash',\n",
       "       'National agricultural land', 'Book-value national wealth',\n",
       "       'National housing assets', 'National non-financial assets',\n",
       "       'National natural capital', 'National other domestic capital',\n",
       "       'Non-profit currency & deposits', 'Non-profit dwellings',\n",
       "       'Non-profit equities', 'Non-profit land underlying dwellings',\n",
       "       'Non-profit housing assets', 'Non-profit other domestic capital',\n",
       "       'Residual corporate wealth', 'Private housing assets',\n",
       "       'Private natural capital', 'Other domestic private capital',\n",
       "       'Private pension funds & life insurance',\n",
       "       'Private business assets', 'Private debt',\n",
       "       'Private equity, fund shares & offshore wealth',\n",
       "       'Private dwellings', 'Private financial assets',\n",
       "       'Government currency & deposits', \"Tobin's Q\",\n",
       "       'Market value of corporations (equity liability)',\n",
       "       'Corporate non-financial assets', 'Personal equities',\n",
       "       'Personal other domestic capital',\n",
       "       'Personal pension funds & life insurance', 'Non-profit debt',\n",
       "       'Corporate other domestic capital', 'Government bonds & loans',\n",
       "       'Corporate currency & deposits', 'Corporate dwellings',\n",
       "       'Corporate land underlying dwellings',\n",
       "       'Corporate financial assets', 'Corporate natural capital',\n",
       "       'National business and other non-financial assets',\n",
       "       'National dwellings', 'Book value of corporations',\n",
       "       'Government financial assets',\n",
       "       'National land underlying dwellings',\n",
       "       'Non-profit financial assets excluding cash',\n",
       "       'Non-profit currency, deposits, bonds & loans',\n",
       "       'Non-profit natural capital', 'Private agricultural land',\n",
       "       'Private currency, deposits, bonds & loans',\n",
       "       'Private non-financial assets',\n",
       "       'Private land underlying dwellings',\n",
       "       'Government non-financial assets',\n",
       "       'Government other domestic capital',\n",
       "       'Personal business and other non-financial assets',\n",
       "       'Personal dwellings', 'Net non-profit wealth', 'Government debt',\n",
       "       'Employed population',\n",
       "       'Non-profit business and other non-financial assets',\n",
       "       'Domestic financial assets', 'Domestic financial liabilities',\n",
       "       'Private currency & deposits', 'Personal agricultural land',\n",
       "       'Personal bonds & loans', 'Personal currency & deposits',\n",
       "       'Personal debt',\n",
       "       'Personal financial assets excluding currency & deposits',\n",
       "       'Personal currency, bonds & deposits', 'Personal housing assets',\n",
       "       'Personal natural capital', 'Non-profit agricultural land',\n",
       "       'Non-profit bonds & loans', 'Personal non-financial assets',\n",
       "       'Non-profit non-financial assets', 'Private bonds & loans',\n",
       "       'Private equities',\n",
       "       'Private financial assets excluding currency & deposits',\n",
       "       'Corporate agricultural land', 'Personal financial assets',\n",
       "       'Non-profit financial assets',\n",
       "       'Net Non-Profit Wealth to Net National Income Ratio',\n",
       "       'Personal land underlying dwellings',\n",
       "       'Non-profit pension funds & life insurance',\n",
       "       'Government agricultural land',\n",
       "       'Number of tax units - married couples & single adults',\n",
       "       'Fiscal capital income [total fiscal income ranking]', 'Dividends',\n",
       "       'Interest', 'Capital gains',\n",
       "       'Fiscal labour income [total fiscal income ranking]',\n",
       "       'Capital component of mixed income',\n",
       "       'Labour component of mixed income', 'Mixed income',\n",
       "       'Wages and pensions',\n",
       "       'Government equity, fund shares & offshore wealth',\n",
       "       'Income reduction as a result of income tax',\n",
       "       'Pre-tax capital income [total pre-tax income ranking]',\n",
       "       'Pre-tax labor income [total pre-tax income ranking]',\n",
       "       'Personal equity, fund shares & offshore wealth',\n",
       "       'Private offshore wealth',\n",
       "       'Non-profit equity, fund shares & offshore wealth', 'Rents',\n",
       "       'Personal offshore wealth',\n",
       "       'Factor labor income [total pre-tax factor income ranking]',\n",
       "       'Pre-tax capital income [pre-tax capital income ranking]',\n",
       "       'Net Corporate Wealth to Net National Income Ratio',\n",
       "       'Interest payments', 'Pre-tax factor income',\n",
       "       'Housing asset income', 'Equity asset income', 'Interest income',\n",
       "       'Factor capital income [total pre-tax factor income ranking]',\n",
       "       'Pensions and life insurance asset income',\n",
       "       'Labor component of net mixed income',\n",
       "       'Pensions and social insurance income (labor share)'], dtype=object)"
      ]
     },
     "execution_count": 44,
     "metadata": {},
     "output_type": "execute_result"
    }
   ],
   "source": [
    "renamed_df['indicador'].unique()"
   ]
  },
  {
   "cell_type": "markdown",
   "metadata": {},
   "source": [
    "Analisando a coluna tipo"
   ]
  },
  {
   "cell_type": "code",
   "execution_count": 45,
   "metadata": {},
   "outputs": [
    {
     "data": {
      "text/plain": [
       "16"
      ]
     },
     "execution_count": 45,
     "metadata": {},
     "output_type": "execute_result"
    }
   ],
   "source": [
    "len(renamed_df['tipo'].unique())"
   ]
  },
  {
   "cell_type": "code",
   "execution_count": 46,
   "metadata": {},
   "outputs": [
    {
     "data": {
      "text/plain": [
       "array(['Population', 'Average', 'Share', 'Total', 'Total emissions',\n",
       "       'Per-capita emissions', 'Indices', 'Wealth-income ratio',\n",
       "       'Exchange rates', 'Threshold', 'Beta coefficient',\n",
       "       'Gini coefficient', 'Top 10/Bottom 50 ratio',\n",
       "       'Average per capita group emissions', 'Female pop.',\n",
       "       'Proportion of women in group'], dtype=object)"
      ]
     },
     "execution_count": 46,
     "metadata": {},
     "output_type": "execute_result"
    }
   ],
   "source": [
    "renamed_df['tipo'].unique()"
   ]
  },
  {
   "cell_type": "markdown",
   "metadata": {},
   "source": [
    "Analisando a coluna populacao"
   ]
  },
  {
   "cell_type": "code",
   "execution_count": 47,
   "metadata": {},
   "outputs": [
    {
     "data": {
      "text/plain": [
       "5"
      ]
     },
     "execution_count": 47,
     "metadata": {},
     "output_type": "execute_result"
    }
   ],
   "source": [
    "len(renamed_df['populacao'].unique())"
   ]
  },
  {
   "cell_type": "code",
   "execution_count": 48,
   "metadata": {},
   "outputs": [
    {
     "data": {
      "text/plain": [
       "array(['tax unit', 'individuals', 'female', 'male', 'equal-split adults'],\n",
       "      dtype=object)"
      ]
     },
     "execution_count": 48,
     "metadata": {},
     "output_type": "execute_result"
    }
   ],
   "source": [
    "renamed_df['populacao'].unique()"
   ]
  },
  {
   "cell_type": "markdown",
   "metadata": {},
   "source": [
    "Analisando a coluna idade"
   ]
  },
  {
   "cell_type": "code",
   "execution_count": 49,
   "metadata": {},
   "outputs": [
    {
     "data": {
      "text/plain": [
       "38"
      ]
     },
     "execution_count": 49,
     "metadata": {},
     "output_type": "execute_result"
    }
   ],
   "source": [
    "len(renamed_df['idade'].unique())"
   ]
  },
  {
   "cell_type": "code",
   "execution_count": 50,
   "metadata": {},
   "outputs": [
    {
     "data": {
      "text/plain": [
       "array(['Adults', 'All Ages', '0 to 4', '5 to 9', '10 to 14', '100+',\n",
       "       '15 to 19', '20 to 24', '20 to 29', '25 to 29', '30 to 34',\n",
       "       '30 to 39', '35 to 39', '40 to 44', '40 to 49', '45 to 49',\n",
       "       '50 to 54', '50 to 59', '55 to 59', '60 to 64', '60 to 69',\n",
       "       '65 to 69', '70 to 74', '70 to 79', '75 to 79', '80 to 84',\n",
       "       '80 to 89', '85 to 89', '90 to 94', '90 to 99', '95 to 99',\n",
       "       'Children', '20 to 39', '40 to 59', 'Over 60', '20 to 64',\n",
       "       'Over 65', 'Over 80'], dtype=object)"
      ]
     },
     "execution_count": 50,
     "metadata": {},
     "output_type": "execute_result"
    }
   ],
   "source": [
    "renamed_df['idade'].unique()"
   ]
  },
  {
   "cell_type": "markdown",
   "metadata": {},
   "source": [
    "Analisando a coluna unidade"
   ]
  },
  {
   "cell_type": "code",
   "execution_count": 51,
   "metadata": {},
   "outputs": [
    {
     "data": {
      "text/plain": [
       "161"
      ]
     },
     "execution_count": 51,
     "metadata": {},
     "output_type": "execute_result"
    }
   ],
   "source": [
    "len(renamed_df['unidade'].unique())"
   ]
  },
  {
   "cell_type": "code",
   "execution_count": 52,
   "metadata": {},
   "outputs": [
    {
     "data": {
      "text/plain": [
       "array(['population', 'USD', 'share', 'MtCO2e', 'tCO2e', nan,\n",
       "       '% of national income', 'local currency per foreign currency',\n",
       "       'TOP', 'EUR', 'MZN', 'tCO2 equivalent/cap', 'NAD', 'CHF', 'MMK',\n",
       "       'XAF', 'BBD', 'BTN', 'AOA', 'XOF', 'TND', 'MYR', 'MNT', 'BAM',\n",
       "       'AZN', 'AMD', 'CRC', 'CZK', 'BWP', 'ALL', 'CDF', 'LKR', 'MOP',\n",
       "       'XPF', 'MXN', 'TMT', 'TZS', 'VEF', 'UZS', 'NPR', 'MKD', 'NGN',\n",
       "       'BSD', 'ANG', 'BDT', 'CAD', 'CVE', 'BRL', 'XCD', 'LYD', 'THB',\n",
       "       'WST', 'TJS', 'VUV', 'UYU', 'GBP', 'ZAR', 'BGN', 'CUP', 'AUD',\n",
       "       'ILS', 'KYD', 'IQD', 'HUF', 'ERN', 'GMD', 'DKK', 'HTG', 'PEN',\n",
       "       'QAR', 'PGK', 'RON', 'KZT', 'KMF', 'IRR', 'GYD', 'GNF', 'FJD',\n",
       "       'EGP', 'ISK', 'IDR', 'SYP', 'KHR', 'ETB', 'JMD', 'HRK', 'SOS',\n",
       "       'SZL', 'PAB', 'JOD', 'GHS', 'GIP', 'SLL', 'SAR', 'KGS', 'KPW',\n",
       "       'HKD', 'GEL', 'INR', 'RSD', 'PLN', 'PYG', 'SBD', 'RUB', 'DJF',\n",
       "       'KRW', 'KES', 'CNY', 'STN', 'SCR', 'PKR', 'SGD', 'GTQ', 'DOP',\n",
       "       'KWD', 'SSP', 'PHP', 'RWF', 'SDG', 'HNL', '% of population', 'DZD',\n",
       "       'JPY', 'SEK', 'SRD', 'VND', 'ZMW', 'MDL', 'COP', 'AFN', 'OMR',\n",
       "       'NIO', 'MRU', 'LAK', 'UAH', 'TRY', 'YUN', 'MGA', 'CLP', 'BHD',\n",
       "       'ARS', 'BIF', 'AED', 'LBP', 'TWD', 'MUR', 'BMD', 'BZD', 'AWG',\n",
       "       'NOK', 'TTD', 'UGX', 'MVR', 'NZD', 'MAD', 'BND', 'BYN', 'BOB',\n",
       "       'LSL', 'MWK', 'YER'], dtype=object)"
      ]
     },
     "execution_count": 52,
     "metadata": {},
     "output_type": "execute_result"
    }
   ],
   "source": [
    "renamed_df['unidade'].unique()"
   ]
  },
  {
   "cell_type": "markdown",
   "metadata": {},
   "source": [
    "Analisando a coluna valor"
   ]
  },
  {
   "cell_type": "code",
   "execution_count": 55,
   "metadata": {},
   "outputs": [],
   "source": [
    "valores_nulos = renamed_df[renamed_df['valor'].isnull() == True]"
   ]
  },
  {
   "cell_type": "code",
   "execution_count": 59,
   "metadata": {},
   "outputs": [
    {
     "data": {
      "text/plain": [
       "37697"
      ]
     },
     "execution_count": 59,
     "metadata": {},
     "output_type": "execute_result"
    }
   ],
   "source": [
    "len(valores_nulos)"
   ]
  },
  {
   "cell_type": "code",
   "execution_count": 56,
   "metadata": {},
   "outputs": [
    {
     "data": {
      "text/plain": [
       "array(['Taiwan', 'the Netherlands'], dtype=object)"
      ]
     },
     "execution_count": 56,
     "metadata": {},
     "output_type": "execute_result"
    }
   ],
   "source": [
    "valores_nulos['pais'].unique()"
   ]
  },
  {
   "cell_type": "code",
   "execution_count": 57,
   "metadata": {},
   "outputs": [
    {
     "data": {
      "text/plain": [
       "array(['personal carbon footprint - consumption part',\n",
       "       'Personal carbon footprint - investments part',\n",
       "       'Net personal wealth'], dtype=object)"
      ]
     },
     "execution_count": 57,
     "metadata": {},
     "output_type": "execute_result"
    }
   ],
   "source": [
    "valores_nulos['indicador'].unique()"
   ]
  },
  {
   "cell_type": "code",
   "execution_count": 60,
   "metadata": {},
   "outputs": [
    {
     "data": {
      "text/plain": [
       "49796375"
      ]
     },
     "execution_count": 60,
     "metadata": {},
     "output_type": "execute_result"
    }
   ],
   "source": [
    "# Antes de remover os dados nulos da coluna valor\n",
    "len(renamed_df)"
   ]
  },
  {
   "cell_type": "code",
   "execution_count": 61,
   "metadata": {},
   "outputs": [],
   "source": [
    "renamed_df.dropna(subset=['valor'], inplace=True)"
   ]
  },
  {
   "cell_type": "code",
   "execution_count": 62,
   "metadata": {},
   "outputs": [
    {
     "data": {
      "text/plain": [
       "49758678"
      ]
     },
     "execution_count": 62,
     "metadata": {},
     "output_type": "execute_result"
    }
   ],
   "source": [
    "len(renamed_df)"
   ]
  },
  {
   "cell_type": "code",
   "execution_count": 63,
   "metadata": {},
   "outputs": [
    {
     "data": {
      "text/plain": [
       "37697"
      ]
     },
     "execution_count": 63,
     "metadata": {},
     "output_type": "execute_result"
    }
   ],
   "source": [
    "49796375 - 49758678"
   ]
  },
  {
   "cell_type": "code",
   "execution_count": 64,
   "metadata": {},
   "outputs": [
    {
     "name": "stdout",
     "output_type": "stream",
     "text": [
      "<class 'pandas.core.frame.DataFrame'>\n",
      "Index: 49758678 entries, 0 to 49796374\n",
      "Data columns (total 9 columns):\n",
      " #   Column     Dtype  \n",
      "---  ------     -----  \n",
      " 0   percentil  object \n",
      " 1   ano        int64  \n",
      " 2   valor      float64\n",
      " 3   pais       object \n",
      " 4   indicador  object \n",
      " 5   tipo       object \n",
      " 6   populacao  object \n",
      " 7   idade      object \n",
      " 8   unidade    object \n",
      "dtypes: float64(1), int64(1), object(7)\n",
      "memory usage: 3.7+ GB\n"
     ]
    }
   ],
   "source": [
    "renamed_df.info()"
   ]
  },
  {
   "cell_type": "code",
   "execution_count": 65,
   "metadata": {},
   "outputs": [
    {
     "data": {
      "text/html": [
       "<div>\n",
       "<style scoped>\n",
       "    .dataframe tbody tr th:only-of-type {\n",
       "        vertical-align: middle;\n",
       "    }\n",
       "\n",
       "    .dataframe tbody tr th {\n",
       "        vertical-align: top;\n",
       "    }\n",
       "\n",
       "    .dataframe thead th {\n",
       "        text-align: right;\n",
       "    }\n",
       "</style>\n",
       "<table border=\"1\" class=\"dataframe\">\n",
       "  <thead>\n",
       "    <tr style=\"text-align: right;\">\n",
       "      <th></th>\n",
       "      <th>ano</th>\n",
       "      <th>valor</th>\n",
       "    </tr>\n",
       "  </thead>\n",
       "  <tbody>\n",
       "    <tr>\n",
       "      <th>count</th>\n",
       "      <td>4.975868e+07</td>\n",
       "      <td>4.975868e+07</td>\n",
       "    </tr>\n",
       "    <tr>\n",
       "      <th>mean</th>\n",
       "      <td>1.998111e+03</td>\n",
       "      <td>1.755939e+13</td>\n",
       "    </tr>\n",
       "    <tr>\n",
       "      <th>std</th>\n",
       "      <td>2.131548e+01</td>\n",
       "      <td>6.211599e+17</td>\n",
       "    </tr>\n",
       "    <tr>\n",
       "      <th>min</th>\n",
       "      <td>1.807000e+03</td>\n",
       "      <td>-2.918593e+21</td>\n",
       "    </tr>\n",
       "    <tr>\n",
       "      <th>25%</th>\n",
       "      <td>1.990000e+03</td>\n",
       "      <td>3.000000e-01</td>\n",
       "    </tr>\n",
       "    <tr>\n",
       "      <th>50%</th>\n",
       "      <td>2.002000e+03</td>\n",
       "      <td>3.949000e+02</td>\n",
       "    </tr>\n",
       "    <tr>\n",
       "      <th>75%</th>\n",
       "      <td>2.012000e+03</td>\n",
       "      <td>1.309578e+05</td>\n",
       "    </tr>\n",
       "    <tr>\n",
       "      <th>max</th>\n",
       "      <td>2.023000e+03</td>\n",
       "      <td>5.786468e+20</td>\n",
       "    </tr>\n",
       "  </tbody>\n",
       "</table>\n",
       "</div>"
      ],
      "text/plain": [
       "                ano         valor\n",
       "count  4.975868e+07  4.975868e+07\n",
       "mean   1.998111e+03  1.755939e+13\n",
       "std    2.131548e+01  6.211599e+17\n",
       "min    1.807000e+03 -2.918593e+21\n",
       "25%    1.990000e+03  3.000000e-01\n",
       "50%    2.002000e+03  3.949000e+02\n",
       "75%    2.012000e+03  1.309578e+05\n",
       "max    2.023000e+03  5.786468e+20"
      ]
     },
     "execution_count": 65,
     "metadata": {},
     "output_type": "execute_result"
    }
   ],
   "source": [
    "renamed_df.describe()"
   ]
  },
  {
   "cell_type": "code",
   "execution_count": 66,
   "metadata": {},
   "outputs": [
    {
     "name": "stdout",
     "output_type": "stream",
     "text": [
      "percentil          0\n",
      "ano                0\n",
      "valor              0\n",
      "pais               0\n",
      "indicador          0\n",
      "tipo               0\n",
      "populacao          0\n",
      "idade              0\n",
      "unidade      6640745\n",
      "dtype: int64\n"
     ]
    }
   ],
   "source": [
    "print(renamed_df.isnull().sum())"
   ]
  },
  {
   "cell_type": "code",
   "execution_count": 67,
   "metadata": {},
   "outputs": [],
   "source": [
    "'''\n",
    "Salvando o arquivo combinado final:\n",
    "    - com colunas espeficicas e renomeadas\n",
    "    - remoção de espaços em branco nos textos das colunas \n",
    "    - remoção de linhas com valores nulos \n",
    "'''\n",
    "renamed_df.to_csv('combined_WID_cleaned.csv', index=False)"
   ]
  },
  {
   "cell_type": "code",
   "execution_count": null,
   "metadata": {},
   "outputs": [],
   "source": []
  }
 ],
 "metadata": {
  "kernelspec": {
   "display_name": "base",
   "language": "python",
   "name": "python3"
  },
  "language_info": {
   "codemirror_mode": {
    "name": "ipython",
    "version": 3
   },
   "file_extension": ".py",
   "mimetype": "text/x-python",
   "name": "python",
   "nbconvert_exporter": "python",
   "pygments_lexer": "ipython3",
   "version": "3.10.9"
  }
 },
 "nbformat": 4,
 "nbformat_minor": 2
}
